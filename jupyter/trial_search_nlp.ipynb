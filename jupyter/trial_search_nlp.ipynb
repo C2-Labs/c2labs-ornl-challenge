{
 "cells": [
  {
   "cell_type": "code",
   "execution_count": 1,
   "metadata": {},
   "outputs": [
    {
     "name": "stdout",
     "output_type": "stream",
     "text": [
      "Requirement already up-to-date: gensim in c:\\anaconda\\lib\\site-packages (3.8.3)\n",
      "Requirement already satisfied, skipping upgrade: smart-open>=1.8.1 in c:\\anaconda\\lib\\site-packages (from gensim) (2.1.0)\n",
      "Requirement already satisfied, skipping upgrade: numpy>=1.11.3 in c:\\anaconda\\lib\\site-packages (from gensim) (1.18.1)\n",
      "Requirement already satisfied, skipping upgrade: Cython==0.29.14 in c:\\anaconda\\lib\\site-packages (from gensim) (0.29.14)\n",
      "Requirement already satisfied, skipping upgrade: six>=1.5.0 in c:\\anaconda\\lib\\site-packages (from gensim) (1.14.0)\n",
      "Requirement already satisfied, skipping upgrade: scipy>=0.18.1 in c:\\anaconda\\lib\\site-packages (from gensim) (1.4.1)\n",
      "Requirement already satisfied, skipping upgrade: requests in c:\\anaconda\\lib\\site-packages (from smart-open>=1.8.1->gensim) (2.22.0)\n",
      "Requirement already satisfied, skipping upgrade: boto3 in c:\\anaconda\\lib\\site-packages (from smart-open>=1.8.1->gensim) (1.14.20)\n",
      "Requirement already satisfied, skipping upgrade: boto in c:\\anaconda\\lib\\site-packages (from smart-open>=1.8.1->gensim) (2.49.0)\n",
      "Requirement already satisfied, skipping upgrade: idna<2.9,>=2.5 in c:\\anaconda\\lib\\site-packages (from requests->smart-open>=1.8.1->gensim) (2.8)\n",
      "Requirement already satisfied, skipping upgrade: chardet<3.1.0,>=3.0.2 in c:\\anaconda\\lib\\site-packages (from requests->smart-open>=1.8.1->gensim) (3.0.4)\n",
      "Requirement already satisfied, skipping upgrade: certifi>=2017.4.17 in c:\\anaconda\\lib\\site-packages (from requests->smart-open>=1.8.1->gensim) (2019.11.28)\n",
      "Requirement already satisfied, skipping upgrade: urllib3!=1.25.0,!=1.25.1,<1.26,>=1.21.1 in c:\\anaconda\\lib\\site-packages (from requests->smart-open>=1.8.1->gensim) (1.25.8)\n",
      "Requirement already satisfied, skipping upgrade: jmespath<1.0.0,>=0.7.1 in c:\\anaconda\\lib\\site-packages (from boto3->smart-open>=1.8.1->gensim) (0.10.0)\n",
      "Requirement already satisfied, skipping upgrade: s3transfer<0.4.0,>=0.3.0 in c:\\anaconda\\lib\\site-packages (from boto3->smart-open>=1.8.1->gensim) (0.3.3)\n",
      "Requirement already satisfied, skipping upgrade: botocore<1.18.0,>=1.17.20 in c:\\anaconda\\lib\\site-packages (from boto3->smart-open>=1.8.1->gensim) (1.17.20)\n",
      "Requirement already satisfied, skipping upgrade: python-dateutil<3.0.0,>=2.1 in c:\\anaconda\\lib\\site-packages (from botocore<1.18.0,>=1.17.20->boto3->smart-open>=1.8.1->gensim) (2.8.1)\n",
      "Requirement already satisfied, skipping upgrade: docutils<0.16,>=0.10 in c:\\anaconda\\lib\\site-packages (from botocore<1.18.0,>=1.17.20->boto3->smart-open>=1.8.1->gensim) (0.15.2)\n"
     ]
    }
   ],
   "source": [
    "from fuzzywuzzy import fuzz, process\n",
    "\n",
    "# Install the genism Library to help remove stopwords to make analysis easier and faster and possibly more accurate\n",
    "!python -m pip install -U gensim\n",
    "from gensim.parsing.preprocessing import remove_stopwords"
   ]
  },
  {
   "cell_type": "code",
   "execution_count": 2,
   "metadata": {},
   "outputs": [],
   "source": [
    "# Importing the NCT00719303 trial, in the future let's import trials by NCI ID.\n",
    "\n",
    "import json\n",
    "import requests \n",
    "from requests.auth import HTTPBasicAuth\n",
    "\n",
    "\n",
    "#url = \"http://20.42.25.27:9200/trials/_search\"\n",
    "\n",
    "#Url for connecting to the ELK stack to retrieve the JSON data\n",
    "url = \"http://20.42.25.27:9200/trials/_doc/NCT00719303_update\"\n",
    "\n",
    "headers = {'accept': '*/*'}\n",
    "\n",
    "#data = {\"_source\": [\"nct_id\",\"eligibility\"],\"query\": {\"bool\" : {\"must\" : {\"match_all\" : {}},\"filter\" : {\"geo_distance\" : {\"distance\" : \"50km\",\"sites.org_coordinates\" : \"40,-90\"}}}}}\n",
    "# add anatomic sites^\n",
    "\n",
    "# Getting the JSON data\n",
    "response = requests.get(url, headers=headers)\n",
    "\n",
    "# Instantiate an empty list so that we can load the trials inclusion criteria descriptions\n",
    "descriptions = []\n",
    "\n",
    "# The if statement is used to catch data in the case no data is loaded. Status code 200 = data was found\n",
    "# The results variable is the set of descriptions extracted from the original JSON data structure. \n",
    "# We access it by accessing each specific key within the nested dictionaries and when they are assigned to this variabe,\n",
    "# they are still in JSON format\n",
    "if (response.status_code == 200):\n",
    "    results = response.json()['_source']['eligibility']['unstructured'] \n",
    "    \n",
    "    # Here we extract the values from the descriptions key in the results variable and add each value to a list to make it \n",
    "    # easier to navigate through the data structure\n",
    "    for item in results:\n",
    "        descriptions.append(item.get('description', ''))\n",
    "\n",
    "# This is what prints if there is no data\n",
    "else:\n",
    "\n",
    "    print (\"No Data\")\n",
    "\n",
    "\n",
    "#print(json.dumps(descriptions, indent=2))"
   ]
  },
  {
   "cell_type": "code",
   "execution_count": 3,
   "metadata": {},
   "outputs": [
    {
     "name": "stdout",
     "output_type": "stream",
     "text": [
      "['Patients with a histological diagnosis of epithelial ovarian cancer fallopian tube or primary peritoneal carcinoma clinical stage II III or IV at diagnosis', 'Patients with the following histologic epithelial cell types are eligible serous adenocarcinoma endometrioid adenocarcinoma mucinous adenocarcinoma undifferentiated carcinoma clear cell adenocarcinoma mixed epithelial carcinoma transitional cell carcinoma malignant Brenner’s tumor or adenocarcinoma not otherwise specified NOS however the histologic features of the tumor must be compatible with a primary Mullerian epithelial adenocarcinoma', 'Patients must have completed all primary chemotherapy and consolidation therapy if administered at least 6 weeks and no more than 6 months and 2 weeks prior to enrollment and must be in complete remission consolidation therapy is defined as any chemotherapy or biological therapy used for a patient who has completed at least four courses of primary chemotherapy and had documented complete remission prior to initiation of such chemotherapy chemo or biological therapy', 'Patients must have achieved a documented complete response to treatment based on normal cancer antigen CA125 per the institution’s upper limit of normal and computed tomography CT scan or magnetic resonance imaging MRI with contrast ie there must be no clinical evidence of persistent or recurrent disease based on CA125 and CT scan or MRI with contrast', 'Patients must have a Gynecologic Oncology Group GOG performance grade of 0 1 or 2', 'Patients must not be currently enrolled in an ongoing participating for 6 months or longer medically prescribed diet or physical activity regimen', 'Patients must have no other chronic disease that would preclude randomization into a lifestyle intervention trial such diseases include recent myocardial infarction or unstable angina in the previous 6 months chronic hepatitis rheumatoid disease renal or hepatic diseasedysfunction and diabetics receiving insulin or other clinical condition limiting ability to walk recent leg fracture significant osteoarthritis related orthopedic conditions degenerative neurological conditions etc', 'Patients must not have a serious psychiatric illness eg lifetime bipolar disorder schizophrenia or other psychosis serious personality disorder severe major depressive disorder or recent suicide or psychiatric hospitalization previous 12 months or a history of an eating disorder anorexia nervosa or bulimia nervosa', 'Patients must complete all preentry assessments', 'Patients must have signed an approved informed consent and authorization permitting release of personal health information', 'Patients must be willing to provide name and appropriate telephone contact information and be willing to be contacted periodically via telephone by The University of Arizona Cancer Center AZCC staff for completion of individualized lifestyle intervention coaching completion of the Pittsburgh Sleep Quality Index and for clarification of patientcompleted responses if necessary patient must be willing to have Arizona Food Frequency Questionnaire AFFQ Arizona Physical Activity Questionnaire APAQ baseline questionnaire and personal contact information sent to AZCC', 'Patients with GOG performance grade of 3 or 4', 'Patients may not have a history of other invasive malignancies within the last five years with the exception of nonmelanoma skin cancer or stage 1A endometrioid adenocarcinoma of the uterus', 'Patients diagnosed with chronic diseaseillness precluding their participation ie diabetics receiving insulin myocardial infarction or unstable angina within previous 6 months chronic hepatitis rheumatoid disease renal or hepatic diseasedysfunction', 'Patients with a histological diagnosis of clinical stage I epithelial ovarian cancer fallopian tube or primary peritoneal carcinoma', 'Patients who are currently undergoing treatment primary or consolidation for stage II III or IV ovarian fallopian tube or primary peritoneal cancer or who completed treatment less than six weeks ago', 'Patients with a life expectancy of less than one year', 'Patients with body mass index BMI < 20 kgm2', 'Vegan vegetarians', 'Patients enrolled in a weight loss program or who are taking weight loss medications or dietary supplements and are unwilling to discontinue', 'Patients who have participated in a marathon triathlon or other endurancerelated physical activity within the previous 24 months', 'Patients who have had surgery for weight loss\\r\\n Note women will not be excluded if their baseline lifestyle assessment indicates a healthy eating and moderate physical activity with the exception of the exclusion criteria above']\n"
     ]
    }
   ],
   "source": [
    "# Remove the punctuation from each description so when we use fuzzy matching it will be more accurate. If we compare\n",
    "# bob to bob, they are dissimilar by the comma, so this can help with accuracy, and help reducing the number of tokens \n",
    "punctuation = '''!()-[]{};:'\"\\,./?@#$%^&*_~'''\n",
    "desc_no_punc = []\n",
    "\n",
    "for desc in descriptions:\n",
    "    \n",
    "    desc_np = ''\n",
    "    \n",
    "    for ch in desc:\n",
    "        \n",
    "        if ch not in punctuation:\n",
    "            desc_np = desc_np + ch\n",
    "            \n",
    "    desc_no_punc.append(desc_np)\n",
    "    \n",
    "print(desc_no_punc)"
   ]
  },
  {
   "cell_type": "code",
   "execution_count": 4,
   "metadata": {},
   "outputs": [
    {
     "name": "stdout",
     "output_type": "stream",
     "text": [
      "['Patients histological diagnosis epithelial ovarian cancer fallopian tube primary peritoneal carcinoma clinical stage II III IV diagnosis', 'Patients following histologic epithelial cell types eligible serous adenocarcinoma endometrioid adenocarcinoma mucinous adenocarcinoma undifferentiated carcinoma clear cell adenocarcinoma mixed epithelial carcinoma transitional cell carcinoma malignant Brenner’s tumor adenocarcinoma specified NOS histologic features tumor compatible primary Mullerian epithelial adenocarcinoma', 'Patients completed primary chemotherapy consolidation therapy administered 6 weeks 6 months 2 weeks prior enrollment complete remission consolidation therapy defined chemotherapy biological therapy patient completed courses primary chemotherapy documented complete remission prior initiation chemotherapy chemo biological therapy', 'Patients achieved documented complete response treatment based normal cancer antigen CA125 institution’s upper limit normal computed tomography CT scan magnetic resonance imaging MRI contrast clinical evidence persistent recurrent disease based CA125 CT scan MRI contrast', 'Patients Gynecologic Oncology Group GOG performance grade 0 1 2', 'Patients currently enrolled ongoing participating 6 months longer medically prescribed diet physical activity regimen', 'Patients chronic disease preclude randomization lifestyle intervention trial diseases include recent myocardial infarction unstable angina previous 6 months chronic hepatitis rheumatoid disease renal hepatic diseasedysfunction diabetics receiving insulin clinical condition limiting ability walk recent leg fracture significant osteoarthritis related orthopedic conditions degenerative neurological conditions', 'Patients psychiatric illness lifetime bipolar disorder schizophrenia psychosis personality disorder severe major depressive disorder recent suicide psychiatric hospitalization previous 12 months history eating disorder anorexia nervosa bulimia nervosa', 'Patients complete preentry assessments', 'Patients signed approved informed consent authorization permitting release personal health information', 'Patients willing provide appropriate telephone contact information willing contacted periodically telephone The University Arizona Cancer Center AZCC staff completion individualized lifestyle intervention coaching completion Pittsburgh Sleep Quality Index clarification patientcompleted responses necessary patient willing Arizona Food Frequency Questionnaire AFFQ Arizona Physical Activity Questionnaire APAQ baseline questionnaire personal contact information sent AZCC', 'Patients GOG performance grade 3 4', 'Patients history invasive malignancies years exception nonmelanoma skin cancer stage 1A endometrioid adenocarcinoma uterus', 'Patients diagnosed chronic diseaseillness precluding participation diabetics receiving insulin myocardial infarction unstable angina previous 6 months chronic hepatitis rheumatoid disease renal hepatic diseasedysfunction', 'Patients histological diagnosis clinical stage I epithelial ovarian cancer fallopian tube primary peritoneal carcinoma', 'Patients currently undergoing treatment primary consolidation stage II III IV ovarian fallopian tube primary peritoneal cancer completed treatment weeks ago', 'Patients life expectancy year', 'Patients body mass index BMI < 20 kgm2', 'Vegan vegetarians', 'Patients enrolled weight loss program taking weight loss medications dietary supplements unwilling discontinue', 'Patients participated marathon triathlon endurancerelated physical activity previous 24 months', 'Patients surgery weight loss Note women excluded baseline lifestyle assessment indicates healthy eating moderate physical activity exception exclusion criteria']\n"
     ]
    }
   ],
   "source": [
    "# Now we should remove the stopwords from each description, this will help filter out words so we can get better matches\n",
    "filtered_desc = []\n",
    "for desc in desc_no_punc:\n",
    "    df = remove_stopwords(desc)\n",
    "    filtered_desc.append(df)\n",
    "print(filtered_desc)"
   ]
  },
  {
   "cell_type": "code",
   "execution_count": 5,
   "metadata": {},
   "outputs": [
    {
     "name": "stdout",
     "output_type": "stream",
     "text": [
      "[\n",
      "  \"Other Female Genital\",\n",
      "  \"Ovary\"\n",
      "]\n"
     ]
    }
   ],
   "source": [
    "#Url for connecting to the ELK stack to retrieve the JSON data\n",
    "url = \"http://20.42.25.27:9200/trials/_doc/NCT00719303_update\"\n",
    "\n",
    "headers = {'accept': '*/*'}\n",
    "\n",
    "\n",
    "response = requests.get(url, headers=headers)\n",
    "\n",
    "# Instantiate an empty site list to add the site values\n",
    "sites = []\n",
    "\n",
    "#The results variable is the set of anatomic site(s) extracted from the original JSON data structure. \n",
    "# We access it by accessing each specific key within the nested dictionaries and when they are assigned to this variabe,\n",
    "# they are still in JSON format, but anatomic sites is a list so it's a more simple structure to access\n",
    "if (response.status_code == 200):\n",
    "    results = response.json()['_source']['anatomic_sites']   \n",
    "    \n",
    "    # Add each anatomic site\n",
    "    for item in results:\n",
    "        sites.append(item)\n",
    "        \n",
    "else:\n",
    "\n",
    "    print (\"No Data\")\n",
    "\n",
    "\n",
    "print(json.dumps(sites, indent=2))"
   ]
  },
  {
   "cell_type": "code",
   "execution_count": 6,
   "metadata": {},
   "outputs": [
    {
     "name": "stdout",
     "output_type": "stream",
     "text": [
      "Enter your age: 74\n",
      "Enter your gender: Female\n",
      "Where is the cancer located? Ovaries\n",
      "What is the cancer type? (If cancer's location is skin, is it squamous cell carcinoma or basal cell carcinoma?): Adenocarcinoma\n",
      "What is the cancer's stage? 3\n",
      "What is your zip code? 30101\n",
      "How far are you willing to travel? (miles): 400\n"
     ]
    }
   ],
   "source": [
    "# Let a user enter their personal data to make a list of things to search and match with in trial data\n",
    "patient_data = []\n",
    "def get_data():\n",
    "    p_age = input(\"Enter your age: \")\n",
    "    p_gender = input(\"Enter your gender: \")\n",
    "    c_location = input(\"Where is the cancer located? \")\n",
    "    c_type = input(\"What is the cancer type? (If cancer's location is skin, is it squamous cell carcinoma or basal cell carcinoma?): \")\n",
    "    c_stage = input(\"What is the cancer's stage? \")\n",
    "    p_zip_code = input(\"What is your zip code? \")\n",
    "    max_dis = input(\"How far are you willing to travel? (miles): \")\n"
   ]
  },
  {
   "cell_type": "code",
   "execution_count": 12,
   "metadata": {},
   "outputs": [],
   "source": [
    "patient_cancer_data = [c_location, c_type, 'stage II' + c_stage]"
   ]
  },
  {
   "cell_type": "code",
   "execution_count": 13,
   "metadata": {},
   "outputs": [
    {
     "name": "stdout",
     "output_type": "stream",
     "text": [
      "[[11, 19, 71], [5, 100, 7], [6, 13, 7], [6, 11, 7], [17, 31, 14], [10, 18, 13], [4, 7, 4], [7, 12, 7], [22, 27, 17], [13, 19, 14], [4, 7, 4], [24, 38, 23], [9, 100, 71], [5, 12, 7], [11, 20, 71], [10, 16, 71], [22, 33, 21], [23, 20, 27], [42, 39, 23], [10, 21, 15], [12, 22, 14], [7, 13, 10]]\n"
     ]
    }
   ],
   "source": [
    "scores = []\n",
    "for desc in filtered_desc:\n",
    "    \n",
    "    desc_scores = []\n",
    "    \n",
    "    for item in patient_cancer_data:\n",
    "        \n",
    "        desc_score = fuzz.token_set_ratio(item,desc)\n",
    "        \n",
    "        desc_scores.append(desc_score)        \n",
    "    #print(desc_scores)\n",
    "    scores.append(desc_scores)    \n",
    "print(scores)"
   ]
  },
  {
   "cell_type": "code",
   "execution_count": 15,
   "metadata": {},
   "outputs": [
    {
     "name": "stdout",
     "output_type": "stream",
     "text": [
      "0.6\n"
     ]
    }
   ],
   "source": [
    "cdm = 0\n",
    "for row in scores:\n",
    "    \n",
    "    for score in row:\n",
    "        \n",
    "        if score >= 70:\n",
    "            cdm += 0.1\n",
    "print(cdm)"
   ]
  },
  {
   "cell_type": "code",
   "execution_count": 11,
   "metadata": {},
   "outputs": [
    {
     "name": "stdout",
     "output_type": "stream",
     "text": [
      "1\n"
     ]
    }
   ],
   "source": [
    "csm = 0\n",
    "loc_scores = []\n",
    "for site in sites:\n",
    "\n",
    "    site_score = fuzz.token_set_ratio(c_location,site)\n",
    "    loc_scores.append(site_score)\n",
    "    if site_score > 65:\n",
    "        csm += 1\n",
    "print(csm)"
   ]
  },
  {
   "cell_type": "code",
   "execution_count": 16,
   "metadata": {},
   "outputs": [
    {
     "name": "stdout",
     "output_type": "stream",
     "text": [
      "1.6\n"
     ]
    }
   ],
   "source": [
    "final = csm + cdm\n",
    "print(final)"
   ]
  },
  {
   "cell_type": "code",
   "execution_count": null,
   "metadata": {},
   "outputs": [],
   "source": []
  }
 ],
 "metadata": {
  "kernelspec": {
   "display_name": "Python 3",
   "language": "python",
   "name": "python3"
  },
  "language_info": {
   "codemirror_mode": {
    "name": "ipython",
    "version": 3
   },
   "file_extension": ".py",
   "mimetype": "text/x-python",
   "name": "python",
   "nbconvert_exporter": "python",
   "pygments_lexer": "ipython3",
   "version": "3.7.6"
  }
 },
 "nbformat": 4,
 "nbformat_minor": 4
}
